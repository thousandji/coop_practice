{
 "cells": [
  {
   "cell_type": "markdown",
   "id": "8228473f",
   "metadata": {},
   "source": [
    "파이썬으로 데이터 입력하기"
   ]
  },
  {
   "cell_type": "code",
   "execution_count": 9,
   "id": "f0ca9a3d",
   "metadata": {},
   "outputs": [],
   "source": [
    "import pymysql"
   ]
  },
  {
   "cell_type": "code",
   "execution_count": 10,
   "id": "17da482c",
   "metadata": {},
   "outputs": [],
   "source": [
    "conn = pymysql.connect(host='localhost', port=3306, user='root', passwd='1119', db='practice', charset='utf8')"
   ]
  },
  {
   "cell_type": "code",
   "execution_count": 4,
   "id": "93e44af1",
   "metadata": {},
   "outputs": [],
   "source": [
    "cur = conn.cursor()"
   ]
  },
  {
   "cell_type": "code",
   "execution_count": 5,
   "id": "4fdcc2a4",
   "metadata": {},
   "outputs": [
    {
     "data": {
      "text/plain": [
       "0"
      ]
     },
     "execution_count": 5,
     "metadata": {},
     "output_type": "execute_result"
    }
   ],
   "source": [
    "cur.execute(\"CREATE TABLE userTable (id char(4), userName char(15), email char(20), birthYear int)\")"
   ]
  },
  {
   "cell_type": "code",
   "execution_count": 6,
   "id": "eec8ce33",
   "metadata": {},
   "outputs": [
    {
     "data": {
      "text/plain": [
       "1"
      ]
     },
     "execution_count": 6,
     "metadata": {},
     "output_type": "execute_result"
    }
   ],
   "source": [
    "cur.execute(\"INSERT INTO userTable VALUES( 'hong' , '홍지윤' , 'hong@naver.com' , 1996)\")\n",
    "cur.execute(\"INSERT INTO userTable VALUES( 'kim' , '김태연' , 'kim@daum.net' , 2011)\")\n",
    "cur.execute(\"INSERT INTO userTable VALUES( 'star' , '별사랑' , 'star@paran.com' , 1990)\")\n",
    "cur.execute(\"INSERT INTO userTable VALUES( 'yang' , '양지은' , 'yang@gmail.com' , 1993)\")"
   ]
  },
  {
   "cell_type": "code",
   "execution_count": 7,
   "id": "33d9ce0d",
   "metadata": {},
   "outputs": [],
   "source": [
    "conn.commit()"
   ]
  },
  {
   "cell_type": "code",
   "execution_count": 8,
   "id": "f071e13d",
   "metadata": {},
   "outputs": [],
   "source": [
    "conn.close()"
   ]
  },
  {
   "cell_type": "markdown",
   "id": "6c0426a3",
   "metadata": {},
   "source": [
    "파이썬으로 데이터 조회하기"
   ]
  },
  {
   "cell_type": "code",
   "execution_count": 29,
   "id": "2968d28c",
   "metadata": {},
   "outputs": [],
   "source": [
    "import pymysql"
   ]
  },
  {
   "cell_type": "code",
   "execution_count": 30,
   "id": "2fcaa4e9",
   "metadata": {},
   "outputs": [],
   "source": [
    "con, cur = None, None\n",
    "data1, data2, data3, data4 = \"\", \"\", \"\", \"\"\n",
    "row = None"
   ]
  },
  {
   "cell_type": "code",
   "execution_count": 31,
   "id": "f47b825e",
   "metadata": {},
   "outputs": [],
   "source": [
    "conn = pymysql.connect(host='localhost', port=3306, user='root', passwd='1119', db='practice', charset='utf8')\n",
    "cur = conn.cursor()"
   ]
  },
  {
   "cell_type": "code",
   "execution_count": 32,
   "id": "f829eaaf",
   "metadata": {},
   "outputs": [
    {
     "data": {
      "text/plain": [
       "4"
      ]
     },
     "execution_count": 32,
     "metadata": {},
     "output_type": "execute_result"
    }
   ],
   "source": [
    "cur.execute(\"SELECT * FROM userTable\")"
   ]
  },
  {
   "cell_type": "code",
   "execution_count": 33,
   "id": "2ed0f383",
   "metadata": {},
   "outputs": [
    {
     "name": "stdout",
     "output_type": "stream",
     "text": [
      "사용자ID            사용자이름            이메일       출생연도\n",
      "--------------------------------------------------------\n",
      " hong               홍지윤         hong@naver.com   1996\n",
      "  kim               김태연           kim@daum.net   2011\n",
      " star               별사랑         star@paran.com   1990\n",
      " yang               양지은         yang@gmail.com   1993\n"
     ]
    }
   ],
   "source": [
    "print(\"사용자ID            사용자이름            이메일       출생연도\")\n",
    "print(\"--------------------------------------------------------\")\n",
    "\n",
    "while (True) :\n",
    "    row = cur.fetchone()\n",
    "    if row== None :\n",
    "        break\n",
    "    data1 = row[0]\n",
    "    data2 = row[1]\n",
    "    data3 = row[2]\n",
    "    data4 = row[3]\n",
    "    print(\"%5s   %15s   %20s   %d\" % (data1, data2, data3, data4))"
   ]
  },
  {
   "cell_type": "code",
   "execution_count": 34,
   "id": "5eda8c40",
   "metadata": {},
   "outputs": [],
   "source": [
    "conn.close()"
   ]
  }
 ],
 "metadata": {
  "kernelspec": {
   "display_name": "Python 3 (ipykernel)",
   "language": "python",
   "name": "python3"
  },
  "language_info": {
   "codemirror_mode": {
    "name": "ipython",
    "version": 3
   },
   "file_extension": ".py",
   "mimetype": "text/x-python",
   "name": "python",
   "nbconvert_exporter": "python",
   "pygments_lexer": "ipython3",
   "version": "3.10.11"
  }
 },
 "nbformat": 4,
 "nbformat_minor": 5
}
